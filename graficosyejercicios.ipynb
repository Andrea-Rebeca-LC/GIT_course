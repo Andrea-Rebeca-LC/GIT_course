{
 "cells": [
  {
   "cell_type": "code",
   "execution_count": 2,
   "id": "4caa0790-e890-419a-90a6-f378adceaecc",
   "metadata": {},
   "outputs": [],
   "source": [
    "import numpy as np\n",
    "import matplotlib.pyplot as plt"
   ]
  },
  {
   "cell_type": "code",
   "execution_count": 4,
   "id": "a60e1237-4ae6-4c7a-91bc-a81e3bc0a1c9",
   "metadata": {},
   "outputs": [
    {
     "name": "stdout",
     "output_type": "stream",
     "text": [
      "95.0 102\n"
     ]
    }
   ],
   "source": [
    "masa= 47.5\n",
    "edad= 122\n",
    "masa = masa * 2.0\n",
    "edad = edad -20\n",
    "print(masa, edad)"
   ]
  },
  {
   "cell_type": "code",
   "execution_count": 5,
   "id": "cacf1fc4-9674-488a-b5d4-994ba2846221",
   "metadata": {},
   "outputs": [
    {
     "data": {
      "text/plain": [
       "float"
      ]
     },
     "execution_count": 5,
     "metadata": {},
     "output_type": "execute_result"
    }
   ],
   "source": [
    "type(masa)"
   ]
  },
  {
   "cell_type": "code",
   "execution_count": 6,
   "id": "fa9a0bf1-d981-4525-a3d8-b355cdf95439",
   "metadata": {},
   "outputs": [
    {
     "data": {
      "text/plain": [
       "int"
      ]
     },
     "execution_count": 6,
     "metadata": {},
     "output_type": "execute_result"
    }
   ],
   "source": [
    "type(edad)"
   ]
  },
  {
   "cell_type": "code",
   "execution_count": 7,
   "id": "a4f3e5b5-4b80-466a-9b68-02efa558bcf1",
   "metadata": {},
   "outputs": [],
   "source": [
    "name = \"Andrea Lara\""
   ]
  },
  {
   "cell_type": "code",
   "execution_count": 8,
   "id": "ba506b06-ec61-416e-8f7e-5dbe076e35bd",
   "metadata": {},
   "outputs": [
    {
     "data": {
      "text/plain": [
       "str"
      ]
     },
     "execution_count": 8,
     "metadata": {},
     "output_type": "execute_result"
    }
   ],
   "source": [
    "type(name)"
   ]
  },
  {
   "cell_type": "code",
   "execution_count": 9,
   "id": "f047ca40-aa2e-48ec-914f-1ca7c0809c6f",
   "metadata": {},
   "outputs": [],
   "source": [
    "a= np.random.normal(size= (15,2,1))"
   ]
  },
  {
   "cell_type": "code",
   "execution_count": 10,
   "id": "eddb632c-b68d-4858-ae2c-d124f7f636e9",
   "metadata": {},
   "outputs": [
    {
     "name": "stdout",
     "output_type": "stream",
     "text": [
      "e\n"
     ]
    }
   ],
   "source": [
    "nombre = \"Andrea\"\n",
    "print(nombre[4])\n"
   ]
  },
  {
   "cell_type": "code",
   "execution_count": 13,
   "id": "a6494f21-0f5e-496f-8ddf-132d0fd03e52",
   "metadata": {},
   "outputs": [
    {
     "name": "stdout",
     "output_type": "stream",
     "text": [
      "[['a' 'b' 'c']\n",
      " ['d' 'e' 'f']\n",
      " ['g' 'h' 'i']]\n"
     ]
    }
   ],
   "source": [
    "data = [\n",
    "    [\"a\",\"b\",\"c\"],\n",
    "    [\"d\",\"e\",\"f\"],\n",
    "    [\"g\",\"h\",\"i\"]\n",
    "]\n",
    "data = np.matrix(data)\n",
    "print(data[:,:])\n"
   ]
  },
  {
   "cell_type": "code",
   "execution_count": 14,
   "id": "f403cc40-20c7-4ca8-9492-876ad5ebf70f",
   "metadata": {},
   "outputs": [],
   "source": [
    "data_n =[\n",
    "    [1,2,3],\n",
    "    [4,5,6],\n",
    "    [7,8,9]\n",
    "]\n",
    "data_n=np.matrix(data_n)\n"
   ]
  },
  {
   "cell_type": "code",
   "execution_count": 16,
   "id": "1099457e-3450-41f0-9a0e-aa95612eb688",
   "metadata": {},
   "outputs": [
    {
     "name": "stdout",
     "output_type": "stream",
     "text": [
      "[[1 2 3]\n",
      " [4 5 6]\n",
      " [7 8 9]]\n"
     ]
    }
   ],
   "source": [
    "print(data_n[:,:])\n"
   ]
  },
  {
   "cell_type": "code",
   "execution_count": 17,
   "id": "0854f745-f8fe-4244-8b75-5165dda5df47",
   "metadata": {},
   "outputs": [
    {
     "data": {
      "text/plain": [
       "matrix([[7, 8, 9]])"
      ]
     },
     "execution_count": 17,
     "metadata": {},
     "output_type": "execute_result"
    }
   ],
   "source": [
    "np.max(data_n, axis=0)"
   ]
  },
  {
   "cell_type": "code",
   "execution_count": 20,
   "id": "76981788-e812-4378-9711-3c9ecd54dfcd",
   "metadata": {},
   "outputs": [
    {
     "name": "stdout",
     "output_type": "stream",
     "text": [
      "1 is not greater that 5\n",
      "done\n"
     ]
    }
   ],
   "source": [
    "num = np.min(data_n)\n",
    "if num >= 5:\n",
    "    print(str(num), \"is greater that 5\")\n",
    "elif num ==5:\n",
    "    print(\"no se cumple\")\n",
    "else:\n",
    "    print(str(num), \"is not greater that 5\")\n",
    "print(\"done\")"
   ]
  },
  {
   "cell_type": "code",
   "execution_count": 22,
   "id": "4323fbf1-ebde-4207-8a02-1395394816ea",
   "metadata": {},
   "outputs": [
    {
     "data": {
      "image/png": "[encoded data removed]",
      "text/plain": [
       "<Figure size 640x480 with 1 Axes>"
      ]
     },
     "metadata": {},
     "output_type": "display_data"
    }
   ],
   "source": [
    "fig, ax= plt.subplots()\n",
    "ax=plt.plot(a[0,:],color=\"tomato\", linewidth=\"1.5\")\n",
    "plt.xlabel(\"axis x\")\n",
    "plt.ylabel(\"axis y\")\n",
    "plt.title(\"Figura de ejmplo\")\n"
   ]
  },
  {
   "cell_type": "code",
   "execution_count": null,
   "id": "d6e96d56-2f8d-4126-918f-d94f3a396f7d",
   "metadata": {},
   "outputs": [],
   "source": []
  }
 ],
 "metadata": {
  "kernelspec": {
   "display_name": "Python [conda env:jupyterlab] *",
   "language": "python",
   "name": "conda-env-jupyterlab-py"
  },
  "language_info": {
   "codemirror_mode": {
    "name": "ipython",
    "version": 3
   },
   "file_extension": ".py",
   "mimetype": "text/x-python",
   "name": "python",
   "nbconvert_exporter": "python",
   "pygments_lexer": "ipython3",
   "version": "3.11.12"
  }
 },
 "nbformat": 4,
 "nbformat_minor": 5
}
