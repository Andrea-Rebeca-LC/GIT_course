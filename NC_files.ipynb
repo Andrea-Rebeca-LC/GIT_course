{
 "cells": [
  {
   "cell_type": "code",
   "execution_count": 1,
   "id": "833e3e2c-a5a7-4c76-8f13-84722574caf6",
   "metadata": {},
   "outputs": [],
   "source": [
    "import numpy as np # numerical python\n",
    "import netCDF4 as nc"
   ]
  },
  {
   "cell_type": "code",
   "execution_count": 2,
   "id": "8a8e6b60-257f-454f-b5bf-ee3d5b24d17b",
   "metadata": {},
   "outputs": [],
   "source": [
    "spy = np.array([1, 4, 5.0, 6])"
   ]
  },
  {
   "cell_type": "code",
   "execution_count": 3,
   "id": "a00caf35-0ca9-42f3-a861-90aee8df15d2",
   "metadata": {},
   "outputs": [
    {
     "data": {
      "text/plain": [
       "numpy.ndarray"
      ]
     },
     "execution_count": 3,
     "metadata": {},
     "output_type": "execute_result"
    }
   ],
   "source": [
    "type(spy)"
   ]
  },
  {
   "cell_type": "code",
   "execution_count": 4,
   "id": "a69ce65a-63ef-47c3-a30e-f8e9e2f7c0c7",
   "metadata": {},
   "outputs": [
    {
     "name": "stdout",
     "output_type": "stream",
     "text": [
      "(4,)\n",
      "(4,)\n",
      "6.0\n",
      "6.0\n"
     ]
    }
   ],
   "source": [
    "print(spy.shape) # tamaño de variable spy\n",
    "print(np.shape(spy))\n",
    "print(spy[3])\n",
    "print(spy[-1])"
   ]
  },
  {
   "cell_type": "code",
   "execution_count": 6,
   "id": "7aa1ef2e-b970-47c0-9db4-d703a8fb1d3d",
   "metadata": {},
   "outputs": [],
   "source": [
    "fileobj = nc.Dataset('ERA5_Coarse.nc')"
   ]
  },
  {
   "cell_type": "code",
   "execution_count": 8,
   "id": "bf938c00-ea52-422b-8dc4-cd5895628bc0",
   "metadata": {},
   "outputs": [],
   "source": [
    "lon = fileobj['longitude']\n",
    "lat = fileobj['latitude']"
   ]
  },
  {
   "cell_type": "code",
   "execution_count": 9,
   "id": "aca1ae56-efb5-4a6f-96cf-100cd13c2648",
   "metadata": {},
   "outputs": [
    {
     "name": "stdout",
     "output_type": "stream",
     "text": [
      "<class 'netCDF4.Dataset'>\n",
      "root group (NETCDF4 data model, file format HDF5):\n",
      "    history: Thu Dec  1 13:02:52 2022: ncks -F -d time,1,,4 ERA5_Coarse.nc ERA5_test.nc\n",
      "Wed Nov 30 09:40:40 2022: ncks -F -d time,1,,10 ERA5_Coarse.nc ERA5_test.nc\n",
      "    NCO: netCDF Operators version 4.7.6 (Homepage = http://nco.sf.net, Code = http://github.com/nco/nco)\n",
      "    dimensions(sizes): latitude(180), longitude(360), time(19)\n",
      "    variables(dimensions): float32 latitude(latitude), float32 longitude(longitude), int16 sp(time, latitude, longitude), int16 sst(time, latitude, longitude), int16 t2m(time, latitude, longitude), float32 t2m_F(time, latitude, longitude), int32 time(time), int16 tp(time, latitude, longitude), int16 u10(time, latitude, longitude), int16 v10(time, latitude, longitude)\n",
      "    groups: \n"
     ]
    }
   ],
   "source": [
    "print(fileobj)"
   ]
  },
  {
   "cell_type": "code",
   "execution_count": 12,
   "id": "48ff00ee-6e40-428a-897b-fae05389c6c1",
   "metadata": {},
   "outputs": [],
   "source": [
    "# Guarda en la memoria virtual estas variables\n",
    "lon = fileobj['longitude']\n",
    "lat = fileobj['latitude']\n",
    "time = fileobj['time']"
   ]
  },
  {
   "cell_type": "code",
   "execution_count": 13,
   "id": "de1c3187-262d-4c53-8b30-aa31819a42e9",
   "metadata": {},
   "outputs": [],
   "source": [
    "sst = fileobj['sst']"
   ]
  },
  {
   "cell_type": "code",
   "execution_count": 14,
   "id": "9ecd88df-02e5-4731-b597-ce1b4e5e2210",
   "metadata": {},
   "outputs": [],
   "source": [
    "sst = fileobj['sst'][:]"
   ]
  },
  {
   "cell_type": "code",
   "execution_count": 15,
   "id": "e87011f6-3b0b-4579-be48-98aa9672d354",
   "metadata": {},
   "outputs": [
    {
     "name": "stdout",
     "output_type": "stream",
     "text": [
      "(19, 180, 360)\n"
     ]
    }
   ],
   "source": [
    "print(np.shape(sst))"
   ]
  },
  {
   "cell_type": "code",
   "execution_count": 16,
   "id": "36da037b-647d-424e-aaa2-4555c99c565a",
   "metadata": {},
   "outputs": [
    {
     "name": "stdout",
     "output_type": "stream",
     "text": [
      "11.655968324582686\n",
      "11.655968324582686\n"
     ]
    }
   ],
   "source": [
    "print(sst.std())\n",
    "print(np.std(sst))"
   ]
  },
  {
   "cell_type": "code",
   "execution_count": 18,
   "id": "8164d417-dbc4-463e-9b3b-fc899546a4e9",
   "metadata": {},
   "outputs": [],
   "source": [
    "sst_C = sst - 273.15"
   ]
  },
  {
   "cell_type": "code",
   "execution_count": 19,
   "id": "7a78a1bf-0be1-4962-9c5a-fca51fbff00f",
   "metadata": {},
   "outputs": [
    {
     "name": "stdout",
     "output_type": "stream",
     "text": [
      "(180, 360)\n"
     ]
    }
   ],
   "source": [
    "print(np.mean(sst_C, axis=0).shape)"
   ]
  },
  {
   "cell_type": "code",
   "execution_count": 20,
   "id": "b3fdcdae-8162-48ef-8766-8f233327721e",
   "metadata": {},
   "outputs": [
    {
     "data": {
      "text/plain": [
       "masked_array(data=[-1.6900546635534965, -1.690051416304578,\n",
       "                   -1.690049341673324, -1.6900467258339171,\n",
       "                   -1.6900423961686917, -1.6900365330803657,\n",
       "                   -1.6898238382761759, -1.6845676800983087,\n",
       "                   -1.640277240795779, -1.5453931650084753,\n",
       "                   -1.4157694110281362, -1.2815392305940898,\n",
       "                   -1.1455699870376228, -0.9709779779625464,\n",
       "                   -0.7244421551146182, -0.5243559563364235,\n",
       "                   -0.2784883964530478, 0.08101306152140239,\n",
       "                   0.4182163486554386, 0.7990733099364833,\n",
       "                   0.9200757401857499, 1.0486383749996335,\n",
       "                   1.4911550840076393, 2.0799568414636247,\n",
       "                   2.5652982541989173, 2.929811696775026,\n",
       "                   3.644901650973757, 3.7680883879972153,\n",
       "                   4.090082237661396, 4.426223420538322, 4.79820863004297,\n",
       "                   5.293147943410754, 5.621680820505642,\n",
       "                   5.944319520014982, 6.143794882608615,\n",
       "                   6.486200095709329, 6.571410687412412,\n",
       "                   7.069029844124629, 7.345116200924486,\n",
       "                   7.655622104249094, 8.140160715844637, 8.3099587512314,\n",
       "                   8.71405411955982, 9.559350133225648, 10.32758209492678,\n",
       "                   11.173767132769088, 12.132800377188966,\n",
       "                   12.95195201712913, 14.038805248909094,\n",
       "                   15.204419163504879, 16.249248384147247,\n",
       "                   17.040842934350888, 17.89019834565251,\n",
       "                   18.57922988470139, 19.164131564807697,\n",
       "                   19.62745693548189, 20.239123279561106,\n",
       "                   20.771444108495594, 21.146852008294516,\n",
       "                   21.512156741549386, 22.265774375786226,\n",
       "                   22.754842895418726, 23.3578523389459,\n",
       "                   23.85386614804103, 24.362457230327845,\n",
       "                   24.6948666333218, 24.98868990560318,\n",
       "                   25.287184975928263, 25.588308599400104,\n",
       "                   25.88047853229049, 26.203513337518235,\n",
       "                   26.442783359051635, 26.69208092828533,\n",
       "                   26.924007636193025, 27.130113343319625,\n",
       "                   27.285098789989476, 27.434786025405458,\n",
       "                   27.55188688410519, 27.63306975676251,\n",
       "                   27.75060633293859, 27.911953188706295,\n",
       "                   28.02521135952666, 28.115558430448957,\n",
       "                   28.183333888761325, 28.153646182494626,\n",
       "                   28.120745656966605, 28.097176189795892,\n",
       "                   27.99485052892901, 27.789867009350107,\n",
       "                   27.505735179368845, 27.338802743276304,\n",
       "                   27.321051042716554, 27.38915560802509,\n",
       "                   27.40684129565007, 27.464675669996133,\n",
       "                   27.439887253068665, 27.409347647067314,\n",
       "                   27.32150936142973, 27.236475251634495,\n",
       "                   27.14687196004598, 27.014524467110434,\n",
       "                   26.885802838451568, 26.712073828529753,\n",
       "                   26.496399971549565, 26.233889100915192,\n",
       "                   25.91408006872295, 25.57651761113466,\n",
       "                   25.363925398944893, 25.053379478807546,\n",
       "                   24.769046776551424, 24.487070197611366,\n",
       "                   24.124299960549365, 23.799319128318405,\n",
       "                   23.49238336344983, 23.17520702198887, 22.8566319177643,\n",
       "                   22.47634061027912, 22.100383627183778,\n",
       "                   21.65010748912508, 21.147901141589585,\n",
       "                   20.649281112559056, 20.076430277249244,\n",
       "                   19.502892315661608, 18.91506580582838,\n",
       "                   18.324964935628408, 17.745626685568222,\n",
       "                   17.123889755196394, 16.486115610445903,\n",
       "                   15.793846216540988, 15.087590306486435,\n",
       "                   14.29521089480778, 13.44401983385585,\n",
       "                   12.494334242136345, 11.559940069894097,\n",
       "                   10.638392483150785, 9.750775237485902,\n",
       "                   8.972832699589846, 8.181573378380016,\n",
       "                   7.433517077493475, 6.659596664649149,\n",
       "                   5.984516665296174, 5.403413838722972,\n",
       "                   4.849564014630417, 4.302218424836259,\n",
       "                   3.783163706267288, 3.286412304189014,\n",
       "                   2.713028424314375, 2.171480933646417,\n",
       "                   1.6709091240661236, 1.1858882993572535,\n",
       "                   0.7380667856460453, 0.3025910417205532,\n",
       "                   -0.08859303876288734, -0.4542188348176154,\n",
       "                   -0.7722142543334723, -1.0460759499631314,\n",
       "                   -1.227352018924109, -1.3130744577763502,\n",
       "                   -1.4024216555520248, -1.5098515368416405,\n",
       "                   -1.5837927315006588, -1.6157979642719267,\n",
       "                   -1.6196984776439705, -1.6027699470983654,\n",
       "                   -1.5946166759875835, -1.5753086387067816,\n",
       "                   -1.5336421767797208, -1.527280253191629,\n",
       "                   -1.5272622370602102, --, --, --, --, --, --, --, --,\n",
       "                   --, --, --],\n",
       "             mask=[False, False, False, False, False, False, False, False,\n",
       "                   False, False, False, False, False, False, False, False,\n",
       "                   False, False, False, False, False, False, False, False,\n",
       "                   False, False, False, False, False, False, False, False,\n",
       "                   False, False, False, False, False, False, False, False,\n",
       "                   False, False, False, False, False, False, False, False,\n",
       "                   False, False, False, False, False, False, False, False,\n",
       "                   False, False, False, False, False, False, False, False,\n",
       "                   False, False, False, False, False, False, False, False,\n",
       "                   False, False, False, False, False, False, False, False,\n",
       "                   False, False, False, False, False, False, False, False,\n",
       "                   False, False, False, False, False, False, False, False,\n",
       "                   False, False, False, False, False, False, False, False,\n",
       "                   False, False, False, False, False, False, False, False,\n",
       "                   False, False, False, False, False, False, False, False,\n",
       "                   False, False, False, False, False, False, False, False,\n",
       "                   False, False, False, False, False, False, False, False,\n",
       "                   False, False, False, False, False, False, False, False,\n",
       "                   False, False, False, False, False, False, False, False,\n",
       "                   False, False, False, False, False, False, False, False,\n",
       "                   False, False, False, False, False, False, False, False,\n",
       "                   False,  True,  True,  True,  True,  True,  True,  True,\n",
       "                    True,  True,  True,  True],\n",
       "       fill_value=1e+20)"
      ]
     },
     "execution_count": 20,
     "metadata": {},
     "output_type": "execute_result"
    }
   ],
   "source": [
    "np.mean(sst_C, axis=0).mean(axis=1)"
   ]
  },
  {
   "cell_type": "code",
   "execution_count": 21,
   "id": "1cb57189-cf1a-48ee-bfaf-394d1e61f6e1",
   "metadata": {},
   "outputs": [
    {
     "name": "stdout",
     "output_type": "stream",
     "text": [
      "Matrix A\n",
      "[[1. 2.]\n",
      " [3. 4.]]\n",
      "Matrix B\n",
      "[[5. 6.]\n",
      " [7. 8.]]\n"
     ]
    }
   ],
   "source": [
    "a = np.array([[1, 2], [3, 4]], float) # crear una matriz de dos dimensiones tipo float\n",
    "b = np.array([[5, 6], [7,8]], float)\n",
    "\n",
    "print('Matrix A')\n",
    "print(a)\n",
    "print('Matrix B')\n",
    "print(b)"
   ]
  },
  {
   "cell_type": "code",
   "execution_count": 22,
   "id": "c8d6f781-c287-4de0-9b2d-f9692aa8f5fd",
   "metadata": {},
   "outputs": [
    {
     "data": {
      "text/plain": [
       "array([[1., 2., 5., 6.],\n",
       "       [3., 4., 7., 8.]])"
      ]
     },
     "execution_count": 22,
     "metadata": {},
     "output_type": "execute_result"
    }
   ],
   "source": [
    "np.concatenate((a,b), axis=1)"
   ]
  },
  {
   "cell_type": "code",
   "execution_count": null,
   "id": "cd9de4b5-f079-4be6-a5b2-84a61237c72d",
   "metadata": {},
   "outputs": [],
   "source": []
  }
 ],
 "metadata": {
  "kernelspec": {
   "display_name": "Python [conda env:jupyterlab] *",
   "language": "python",
   "name": "conda-env-jupyterlab-py"
  },
  "language_info": {
   "codemirror_mode": {
    "name": "ipython",
    "version": 3
   },
   "file_extension": ".py",
   "mimetype": "text/x-python",
   "name": "python",
   "nbconvert_exporter": "python",
   "pygments_lexer": "ipython3",
   "version": "3.11.12"
  }
 },
 "nbformat": 4,
 "nbformat_minor": 5
}
