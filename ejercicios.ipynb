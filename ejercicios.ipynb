{
 "cells": [
  {
   "cell_type": "code",
   "execution_count": null,
   "id": "9581a149-a87e-442d-86a4-bc729ec5c6f7",
   "metadata": {},
   "outputs": [],
   "source": [
    "Titulo\n",
    "\n",
    "punto 1\n",
    "punto 2"
   ]
  },
  {
   "cell_type": "code",
   "execution_count": 1,
   "id": "808d5565-dbc0-44d5-a74a-a7743285319f",
   "metadata": {},
   "outputs": [
    {
     "data": {
      "text/plain": [
       "3"
      ]
     },
     "execution_count": 1,
     "metadata": {},
     "output_type": "execute_result"
    }
   ],
   "source": [
    "1+2"
   ]
  },
  {
   "cell_type": "code",
   "execution_count": null,
   "id": "78223ab1-9c7d-4c42-9dd9-622acb68d2ea",
   "metadata": {},
   "outputs": [],
   "source": [
    "¡ls"
   ]
  },
  {
   "cell_type": "code",
   "execution_count": null,
   "id": "f37e3d63-614f-4674-b544-7d649ba7a7dc",
   "metadata": {},
   "outputs": [],
   "source": []
  }
 ],
 "metadata": {
  "kernelspec": {
   "display_name": "Python [conda env:jupyterlab] *",
   "language": "python",
   "name": "conda-env-jupyterlab-py"
  },
  "language_info": {
   "codemirror_mode": {
    "name": "ipython",
    "version": 3
   },
   "file_extension": ".py",
   "mimetype": "text/x-python",
   "name": "python",
   "nbconvert_exporter": "python",
   "pygments_lexer": "ipython3",
   "version": "3.11.12"
  }
 },
 "nbformat": 4,
 "nbformat_minor": 5
}
